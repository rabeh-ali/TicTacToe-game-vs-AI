{
  "nbformat": 4,
  "nbformat_minor": 0,
  "metadata": {
    "colab": {
      "provenance": [],
      "authorship_tag": "ABX9TyNBUAEDntoL9AOQvtzQGLjY",
      "include_colab_link": true
    },
    "kernelspec": {
      "name": "python3",
      "display_name": "Python 3"
    },
    "language_info": {
      "name": "python"
    }
  },
  "cells": [
    {
      "cell_type": "markdown",
      "metadata": {
        "id": "view-in-github",
        "colab_type": "text"
      },
      "source": [
        "<a href=\"https://colab.research.google.com/github/rabeh-ali/TicTacToe-game-vs-AI/blob/main/TicTacToe_game_vs_AI.ipynb\" target=\"_parent\"><img src=\"https://colab.research.google.com/assets/colab-badge.svg\" alt=\"Open In Colab\"/></a>"
      ]
    },
    {
      "cell_type": "code",
      "source": [
        "pip install easyAI"
      ],
      "metadata": {
        "colab": {
          "base_uri": "https://localhost:8080/"
        },
        "id": "GrWtK_wuiBDt",
        "outputId": "aa6e1c4c-d601-44b4-cc58-4bae7d176f89"
      },
      "execution_count": null,
      "outputs": [
        {
          "output_type": "stream",
          "name": "stdout",
          "text": [
            "Collecting easyAI\n",
            "  Downloading easyAI-2.0.12-py3-none-any.whl.metadata (4.5 kB)\n",
            "Requirement already satisfied: numpy in /usr/local/lib/python3.11/dist-packages (from easyAI) (1.26.4)\n",
            "Downloading easyAI-2.0.12-py3-none-any.whl (42 kB)\n",
            "\u001b[?25l   \u001b[90m━━━━━━━━━━━━━━━━━━━━━━━━━━━━━━━━━━━━━━━━\u001b[0m \u001b[32m0.0/42.2 kB\u001b[0m \u001b[31m?\u001b[0m eta \u001b[36m-:--:--\u001b[0m\r\u001b[2K   \u001b[90m━━━━━━━━━━━━━━━━━━━━━━━━━━━━━━━━━━━━━━━━\u001b[0m \u001b[32m42.2/42.2 kB\u001b[0m \u001b[31m1.8 MB/s\u001b[0m eta \u001b[36m0:00:00\u001b[0m\n",
            "\u001b[?25hInstalling collected packages: easyAI\n",
            "Successfully installed easyAI-2.0.12\n"
          ]
        }
      ]
    },
    {
      "cell_type": "code",
      "source": [
        "from easyAI import TwoPlayerGame, AI_Player, Negamax\n",
        "from easyAI.Player import Human_Player\n",
        "\n",
        "class TicTacToe(TwoPlayerGame):\n",
        "    \"\"\"The board positions are numbered as follows:\n",
        "    1 2 3\n",
        "    4 5 6\n",
        "    7 8 9\n",
        "    \"\"\"\n",
        "    def __init__(self, players):\n",
        "        self.players = players\n",
        "        self.board = [0 for i in range(9)]\n",
        "        self.current_player = 1  # player 1 starts.\n",
        "\n",
        "    def possible_moves(self):\n",
        "        return [i + 1 for i, e in enumerate(self.board) if e == 0]\n",
        "\n",
        "    def make_move(self, move):\n",
        "        self.board[int(move) - 1] = self.current_player\n",
        "\n",
        "    def unmake_move(self, move):  # optional method (speeds up the AI)\n",
        "        self.board[int(move) - 1] = 0\n",
        "\n",
        "    WIN_LINES = [\n",
        "        [1, 2, 3],\n",
        "        [4, 5, 6],\n",
        "        [7, 8, 9],  # horiz.\n",
        "        [1, 4, 7],\n",
        "        [2, 5, 8],\n",
        "        [3, 6, 9],  # vertical\n",
        "        [1, 5, 9],\n",
        "        [3, 5, 7],  # diagonal\n",
        "    ]\n",
        "\n",
        "    def lose(self, who=None):\n",
        "        \"\"\" Has the opponent \"three in line ?\" \"\"\"\n",
        "        if who is None:\n",
        "            who = self.opponent_index\n",
        "        wins = [\n",
        "            all([(self.board[c - 1] == who) for c in line]) for line in self.WIN_LINES\n",
        "        ]\n",
        "        return any(wins)\n",
        "\n",
        "    def is_over(self):\n",
        "        return (\n",
        "            (self.possible_moves() == [])\n",
        "            or self.lose()\n",
        "            or self.lose(who=self.current_player)\n",
        "        )\n",
        "\n",
        "    def show(self):\n",
        "        print(\n",
        "            \"\\n\"\n",
        "            + \"\\n\".join(\n",
        "                [\n",
        "                    \" \".join([[\".\", \"O\", \"X\"][self.board[3 * j + i]] for i in range(3)])\n",
        "                    for j in range(3)\n",
        "                ]\n",
        "            )\n",
        "        )\n",
        "\n",
        "    def spot_string(self, i, j):\n",
        "        return [\"_\", \"O\", \"X\"][self.board[3 * j + i]]\n",
        "\n",
        "    def scoring(self):\n",
        "        opp_won = self.lose()\n",
        "        i_won = self.lose(who=self.current_player)\n",
        "        if opp_won and not i_won:\n",
        "            return -100\n",
        "        if i_won and not opp_won:\n",
        "            return 100\n",
        "        return 0\n",
        "\n",
        "    def winner(self):\n",
        "        if self.lose(who=2):\n",
        "          return \"AI Wins\"\n",
        "        elif self.lose(who=1):\n",
        "          return \"player Wins\"\n",
        "        return \"Draw\"\n",
        "\n",
        "if __name__ == \"__main__\":\n",
        "    ai_algo = Negamax(6)\n",
        "    TicTacToe([Human_Player(),AI_Player(ai_algo)]).play()"
      ],
      "metadata": {
        "colab": {
          "base_uri": "https://localhost:8080/"
        },
        "id": "LVHy7eSN66w5",
        "outputId": "b9ab0eca-67ad-4322-ff59-f36e7e45f7c2"
      },
      "execution_count": null,
      "outputs": [
        {
          "output_type": "stream",
          "name": "stdout",
          "text": [
            "\n",
            ". . .\n",
            ". . .\n",
            ". . .\n",
            "\n",
            "Player 1 what do you play ? o\n",
            "\n",
            "Player 1 what do you play ? x\n",
            "\n",
            "Player 1 what do you play ? 1\n",
            "\n",
            "Move #1: player 1 plays 1 :\n",
            "\n",
            "O . .\n",
            ". . .\n",
            ". . .\n",
            "\n",
            "Move #2: player 2 plays 5 :\n",
            "\n",
            "O . .\n",
            ". X .\n",
            ". . .\n",
            "\n",
            "Player 1 what do you play ? 3\n",
            "\n",
            "Move #3: player 1 plays 3 :\n",
            "\n",
            "O . O\n",
            ". X .\n",
            ". . .\n",
            "\n",
            "Move #4: player 2 plays 2 :\n",
            "\n",
            "O X O\n",
            ". X .\n",
            ". . .\n",
            "\n",
            "Player 1 what do you play ? 8\n",
            "\n",
            "Move #5: player 1 plays 8 :\n",
            "\n",
            "O X O\n",
            ". X .\n",
            ". O .\n",
            "\n",
            "Move #6: player 2 plays 4 :\n",
            "\n",
            "O X O\n",
            "X X .\n",
            ". O .\n",
            "\n",
            "Player 1 what do you play ? 6\n",
            "\n",
            "Move #7: player 1 plays 6 :\n",
            "\n",
            "O X O\n",
            "X X O\n",
            ". O .\n",
            "\n",
            "Move #8: player 2 plays 9 :\n",
            "\n",
            "O X O\n",
            "X X O\n",
            ". O X\n",
            "\n",
            "Player 1 what do you play ? 7\n",
            "\n",
            "Move #9: player 1 plays 7 :\n",
            "\n",
            "O X O\n",
            "X X O\n",
            "O O X\n"
          ]
        }
      ]
    }
  ]
}